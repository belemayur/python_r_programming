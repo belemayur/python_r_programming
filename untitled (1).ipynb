{
  "nbformat": 4,
  "nbformat_minor": 0,
  "metadata": {
    "colab": {
      "name": ".ipynb",
      "provenance": []
    },
    "kernelspec": {
      "name": "python3",
      "display_name": "Python 3"
    },
    "language_info": {
      "name": "python"
    }
  },
  "cells": [
    {
      "cell_type": "code",
      "execution_count": 1,
      "metadata": {
        "id": "Z3bsP-K0kcrZ"
      },
      "outputs": [],
      "source": [
        "#Q.1) Convert given hrs & mins in second"
      ]
    },
    {
      "cell_type": "code",
      "source": [
        "time = float(input(\"Input time in Seconds:\"))\n",
        "time=time%(24*3600)\n",
        "hour=time//3600\n",
        "time%=3600\n",
        "minutes=time//60\n",
        "time%=60\n",
        "seconds=time\n",
        "print(\"h:m:s->%d:%d:%d\"%(hour,minutes,seconds))"
      ],
      "metadata": {
        "colab": {
          "base_uri": "https://localhost:8080/"
        },
        "id": "YNegBdJ_kx3G",
        "outputId": "64ff7053-1777-4100-bc1e-79072dfc0ad9"
      },
      "execution_count": 6,
      "outputs": [
        {
          "output_type": "stream",
          "name": "stdout",
          "text": [
            "Input time in Seconds:3600\n",
            "h:m:s->1:0:0\n"
          ]
        }
      ]
    },
    {
      "cell_type": "code",
      "source": [
        "#Q.2) Write code to find the average of ‘n’numbers entered by the user to function avg ( ).\n",
        "#Ex: avg (10, 20, 30, 40) => average is: 70\n",
        "#avg (5, 10, 15) => average is: 10\n"
      ],
      "metadata": {
        "id": "5a1zUKjslfvQ"
      },
      "execution_count": 7,
      "outputs": []
    },
    {
      "cell_type": "code",
      "source": [
        "def cal_average(num):\n",
        "  sum_num = 0\n",
        "  for t in num:\n",
        "    sum_num = sum_num + t\n",
        "  avg = sum_num/len(num)\n",
        "  return avg\n",
        "print(\"The average is: \",cal_average([5,10,15]))"
      ],
      "metadata": {
        "colab": {
          "base_uri": "https://localhost:8080/"
        },
        "id": "jM5whmctmY7Q",
        "outputId": "d2596716-eb90-40cb-9564-09a5763a8dfd"
      },
      "execution_count": 23,
      "outputs": [
        {
          "output_type": "stream",
          "name": "stdout",
          "text": [
            "The average is:  10.0\n"
          ]
        }
      ]
    },
    {
      "cell_type": "code",
      "source": [
        "#4) Write a code to accept a number & printin words.\n",
        "#Ex: 123\n",
        "#Three\n",
        "#Two\n",
        "#One\n"
      ],
      "metadata": {
        "id": "JxQ5zIsuoq1K"
      },
      "execution_count": null,
      "outputs": []
    },
    {
      "cell_type": "code",
      "source": [
        "def printValue(digit):\n",
        "  if digit == \"1\":\n",
        "    print(\"One\", end=\" \")\n",
        "  elif digit == \"2\":\n",
        "    print(\"Two\",end=\" \")\n",
        "  elif digit == \"3\":\n",
        "    print(\"Three\",end=\" \")\n",
        "def printWord(N):\n",
        "      i = 0\n",
        "      length = len(N)\n",
        "      while i < length:\n",
        "        printValue(N[i])\n",
        "        i+=1\n",
        "N=\"123\"\n",
        "printWord(N)"
      ],
      "metadata": {
        "colab": {
          "base_uri": "https://localhost:8080/"
        },
        "id": "CLF0G34woxb_",
        "outputId": "28fd2047-447e-4868-f4b3-de957daad6e1"
      },
      "execution_count": 39,
      "outputs": [
        {
          "output_type": "stream",
          "name": "stdout",
          "text": [
            "One Two Three "
          ]
        }
      ]
    },
    {
      "cell_type": "code",
      "source": [
        "###3)\n",
        "#Print\n",
        "#1\n",
        "#0 1\n",
        "#0 1 0\n",
        "#1 0 1 0\n",
        "#1 0 1 0 1\n"
      ],
      "metadata": {
        "id": "BvgHmVDwp1SA"
      },
      "execution_count": 17,
      "outputs": []
    },
    {
      "cell_type": "code",
      "source": [
        "#10) Create menu driven code for\n",
        "#1) Accept 2 numbers\n",
        "#2) Add\n",
        "#3) Sub\n",
        "#4) Mul\n",
        "#5) Div\n",
        "#6)Exit"
      ],
      "metadata": {
        "id": "Z_k9hHLirXfo"
      },
      "execution_count": null,
      "outputs": []
    },
    {
      "cell_type": "code",
      "source": [
        "while True:\n",
        "  a=input(print(\"1.Accept numbers\\n2.Add\\n3.Sub\\n4.Mul\\n5.Div\\n6.Exit\"))\n",
        "  if a=='1':\n",
        "    b=int(input(\"Enter 1St Number:\"))\n",
        "    c=int(input(\"Enter 2nd Number:\"))\n",
        "    elif a=='2':\n",
        "      print(\"Addition of\",b,'and',c,'is',b+c)\n",
        "    elif a=='3':\n",
        "      print(\"Subtraction of\",b,'and',c,'is',b-c)\n",
        "    elif a=='4':\n",
        "      print(\"Multiplication of\",b,'and',c,'is',b*c)\n",
        "    elif a=='5':\n",
        "      print(\"Division of\",b,'and',c,'is',b/c)\n",
        "    elif a=='6':\n",
        "      print(\"Exit\")\n",
        "      break\n",
        "    "
      ],
      "metadata": {
        "colab": {
          "base_uri": "https://localhost:8080/",
          "height": 130
        },
        "id": "luyyIfLLuvdx",
        "outputId": "0e78389c-c4ed-4c2c-9c90-47740d0cf698"
      },
      "execution_count": 35,
      "outputs": [
        {
          "output_type": "error",
          "ename": "SyntaxError",
          "evalue": "ignored",
          "traceback": [
            "\u001b[0;36m  File \u001b[0;32m\"<ipython-input-35-fbf7a8b991a3>\"\u001b[0;36m, line \u001b[0;32m6\u001b[0m\n\u001b[0;31m    elif a=='2':\u001b[0m\n\u001b[0m       ^\u001b[0m\n\u001b[0;31mSyntaxError\u001b[0m\u001b[0;31m:\u001b[0m invalid syntax\n"
          ]
        }
      ]
    },
    {
      "cell_type": "code",
      "source": [
        "#7)Convert Paise in Rupees &\n",
        "#Paises\n",
        "E#x: 350 is 3 Rupees 50 Paise\n",
        "#3.50 print Rupees: 3\n",
        "#Paise: 50\n"
      ],
      "metadata": {
        "colab": {
          "base_uri": "https://localhost:8080/",
          "height": 130
        },
        "id": "Mwq9eIh-v4yB",
        "outputId": "cddbbd50-1d9b-4146-db50-5b3b3f9ad137"
      },
      "execution_count": 32,
      "outputs": [
        {
          "output_type": "error",
          "ename": "SyntaxError",
          "evalue": "ignored",
          "traceback": [
            "\u001b[0;36m  File \u001b[0;32m\"<ipython-input-32-a5fa6121c84b>\"\u001b[0;36m, line \u001b[0;32m3\u001b[0m\n\u001b[0;31m    Ex: 350 is 3 Rupees 50 Paise\u001b[0m\n\u001b[0m                      ^\u001b[0m\n\u001b[0;31mSyntaxError\u001b[0m\u001b[0;31m:\u001b[0m invalid syntax\n"
          ]
        }
      ]
    },
    {
      "cell_type": "code",
      "source": [
        "paise = 100\n",
        "rs = int(input(\"Enter amount in rupees:\"))\n",
        "result = rs * paise\n",
        "print(f\"{result}paise\")"
      ],
      "metadata": {
        "colab": {
          "base_uri": "https://localhost:8080/"
        },
        "id": "I2KIWl3Zxtd-",
        "outputId": "fbc7ec01-a731-4067-8385-26ee594d123f"
      },
      "execution_count": 34,
      "outputs": [
        {
          "output_type": "stream",
          "name": "stdout",
          "text": [
            "Enter amount in rupees:350\n",
            "35000paise\n"
          ]
        }
      ]
    },
    {
      "cell_type": "code",
      "source": [
        "#8)pattern "
      ],
      "metadata": {
        "id": "LVw3JESLyM5p"
      },
      "execution_count": 41,
      "outputs": []
    },
    {
      "cell_type": "code",
      "source": [
        "n=5\n",
        "a=1\n",
        "for i in range (1,n+1):\n",
        "  for j in range(1, i+1):\n",
        "    print(a, end=\" \")\n",
        "  if i == 1 or i == 2:\n",
        "      a+=2\n",
        "  else:\n",
        "      a+=1\n",
        "  print()"
      ],
      "metadata": {
        "colab": {
          "base_uri": "https://localhost:8080/"
        },
        "id": "l--66AmSz0CR",
        "outputId": "360f523f-2de6-4ba9-cb57-33a4d023fa02"
      },
      "execution_count": 26,
      "outputs": [
        {
          "output_type": "stream",
          "name": "stdout",
          "text": [
            "1 \n",
            "3 3 \n",
            "5 5 5 \n",
            "6 6 6 6 \n",
            "7 7 7 7 7 \n"
          ]
        }
      ]
    },
    {
      "cell_type": "code",
      "source": [
        "#6)Q.6) Read file & count numbers of digit\n",
        "#alphabets & symbols\n"
      ],
      "metadata": {
        "id": "CphAyPY-0AjA"
      },
      "execution_count": 5,
      "outputs": []
    },
    {
      "cell_type": "code",
      "source": [
        "string = input(\"Enter numbers and digits\")\n",
        "alphabets = digits = special = 0\n",
        "for i in range(len(string)):\n",
        "  if(string[i].isalpha()):\n",
        "    alphabets=alphabets+1\n",
        "  elif(string[i].isdigit()):\n",
        "      digits=digits+1\n",
        "  else:\n",
        "    special = special + 1\n",
        "print(\"Total Number of Alphabets in the String:\",alphabets)\n",
        "print(\"Total Number of Digits in this string:\",digits)\n",
        "print(\"Total Number of Special characters in this string:\",special)"
      ],
      "metadata": {
        "colab": {
          "base_uri": "https://localhost:8080/"
        },
        "id": "REiAjm1T1oKP",
        "outputId": "fae19226-0f99-4640-e5e3-d91bdef52f68"
      },
      "execution_count": 13,
      "outputs": [
        {
          "output_type": "stream",
          "name": "stdout",
          "text": [
            "Enter numbers and digits541651@43\n",
            "Total Number of Alphabets in the String: 0\n",
            "Total Number of Digits in this string: 8\n",
            "Total Number of Special characters in this string: 1\n"
          ]
        }
      ]
    },
    {
      "cell_type": "code",
      "source": [
        "#Q.5) Create class"
      ],
      "metadata": {
        "id": "lnYEfQyJ2gtS"
      },
      "execution_count": 15,
      "outputs": []
    },
    {
      "cell_type": "code",
      "source": [
        "class Math:\n",
        "  def __init__(self,a,b):\n",
        "    self.a=a\n",
        "    self.b=b\n",
        "  def Add(self):\n",
        "    return self.a+self.b\n",
        "  def Sub(self):\n",
        "    return self.a-self.b\n",
        "  def Mul(self):\n",
        "    return self.a*self.b\n",
        "  def Div(self):\n",
        "    return self.a/self.b"
      ],
      "metadata": {
        "id": "V7psTpcd3yf_"
      },
      "execution_count": 22,
      "outputs": []
    },
    {
      "cell_type": "code",
      "source": [
        ""
      ],
      "metadata": {
        "id": "SfZ4bbUn4Tc5"
      },
      "execution_count": null,
      "outputs": []
    }
  ]
}